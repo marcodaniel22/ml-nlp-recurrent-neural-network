{
 "cells": [
  {
   "cell_type": "markdown",
   "metadata": {},
   "source": [
    "# LSTN"
   ]
  },
  {
   "cell_type": "code",
   "execution_count": 1,
   "metadata": {},
   "outputs": [
    {
     "name": "stderr",
     "output_type": "stream",
     "text": [
      "Using TensorFlow backend.\n"
     ]
    }
   ],
   "source": [
    "import numpy as np\n",
    "from keras.layers import Dense, Activation\n",
    "from keras.layers.recurrent import LSTM\n",
    "from keras.models import Sequential\n",
    "\n",
    "import pandas as pd\n",
    "import re"
   ]
  },
  {
   "cell_type": "code",
   "execution_count": 2,
   "metadata": {},
   "outputs": [],
   "source": [
    "funk = pd.read_csv(\"funk_carioca.csv\")"
   ]
  },
  {
   "cell_type": "code",
   "execution_count": 3,
   "metadata": {},
   "outputs": [
    {
     "data": {
      "text/html": [
       "<div>\n",
       "<style scoped>\n",
       "    .dataframe tbody tr th:only-of-type {\n",
       "        vertical-align: middle;\n",
       "    }\n",
       "\n",
       "    .dataframe tbody tr th {\n",
       "        vertical-align: top;\n",
       "    }\n",
       "\n",
       "    .dataframe thead th {\n",
       "        text-align: right;\n",
       "    }\n",
       "</style>\n",
       "<table border=\"1\" class=\"dataframe\">\n",
       "  <thead>\n",
       "    <tr style=\"text-align: right;\">\n",
       "      <th></th>\n",
       "      <th>Unnamed: 0</th>\n",
       "      <th>fonte</th>\n",
       "      <th>titulo1</th>\n",
       "      <th>titulo2</th>\n",
       "      <th>artista</th>\n",
       "      <th>letra</th>\n",
       "    </tr>\n",
       "  </thead>\n",
       "  <tbody>\n",
       "    <tr>\n",
       "      <th>0</th>\n",
       "      <td>0</td>\n",
       "      <td>https://www.letras.mus.br/mc-doni/te-amo-sem-c...</td>\n",
       "      <td>Te Amo Sem Compromisso (To Nem Aí)</td>\n",
       "      <td>Te Amo Sem Compromisso (To Nem Aí)</td>\n",
       "      <td>MC Doni</td>\n",
       "      <td>\\nNão adianta tu se declarar\\nRomance, compro...</td>\n",
       "    </tr>\n",
       "    <tr>\n",
       "      <th>1</th>\n",
       "      <td>1</td>\n",
       "      <td>https://www.letras.mus.br/mc-kevin-o-cris/evol...</td>\n",
       "      <td>Evoluiu (part. Sodré)</td>\n",
       "      <td>Evoluiu (part. Sodré)</td>\n",
       "      <td>MC Kevin o Chris</td>\n",
       "      <td>\\nEvoluiu! Ritmo agressivo, 150 fluiu\\nLevand...</td>\n",
       "    </tr>\n",
       "    <tr>\n",
       "      <th>2</th>\n",
       "      <td>2</td>\n",
       "      <td>https://www.letras.mus.br/mc-davi/love-66-part...</td>\n",
       "      <td>Love 66 (part. MC Rita, MC Hariel e Gaab)</td>\n",
       "      <td>Love 66 (part. MC Rita, MC Hariel e Gaab)</td>\n",
       "      <td>MC Davi</td>\n",
       "      <td>\\n[MC Davi]\\nVocê me tira do sério\\nEu fazia ...</td>\n",
       "    </tr>\n",
       "    <tr>\n",
       "      <th>3</th>\n",
       "      <td>3</td>\n",
       "      <td>https://www.letras.mus.br/ludmilla/invocada-pa...</td>\n",
       "      <td>Invocada (part. Léo Santana)</td>\n",
       "      <td>Invocada (part. Léo Santana)</td>\n",
       "      <td>Ludmilla</td>\n",
       "      <td>\\nEu te amava, não posso negar\\nTambém sofria...</td>\n",
       "    </tr>\n",
       "    <tr>\n",
       "      <th>4</th>\n",
       "      <td>4</td>\n",
       "      <td>https://www.letras.mus.br/mc-magal/positividad...</td>\n",
       "      <td>Positividade (part. MC Bola)</td>\n",
       "      <td>Positividade (part. MC Bola)</td>\n",
       "      <td>MC Magal</td>\n",
       "      <td>\\nTá torcendo contra o meu progresso\\nTá preo...</td>\n",
       "    </tr>\n",
       "  </tbody>\n",
       "</table>\n",
       "</div>"
      ],
      "text/plain": [
       "   Unnamed: 0                                              fonte  \\\n",
       "0           0  https://www.letras.mus.br/mc-doni/te-amo-sem-c...   \n",
       "1           1  https://www.letras.mus.br/mc-kevin-o-cris/evol...   \n",
       "2           2  https://www.letras.mus.br/mc-davi/love-66-part...   \n",
       "3           3  https://www.letras.mus.br/ludmilla/invocada-pa...   \n",
       "4           4  https://www.letras.mus.br/mc-magal/positividad...   \n",
       "\n",
       "                                     titulo1  \\\n",
       "0         Te Amo Sem Compromisso (To Nem Aí)   \n",
       "1                      Evoluiu (part. Sodré)   \n",
       "2  Love 66 (part. MC Rita, MC Hariel e Gaab)   \n",
       "3               Invocada (part. Léo Santana)   \n",
       "4               Positividade (part. MC Bola)   \n",
       "\n",
       "                                     titulo2           artista  \\\n",
       "0         Te Amo Sem Compromisso (To Nem Aí)           MC Doni   \n",
       "1                      Evoluiu (part. Sodré)  MC Kevin o Chris   \n",
       "2  Love 66 (part. MC Rita, MC Hariel e Gaab)           MC Davi   \n",
       "3               Invocada (part. Léo Santana)          Ludmilla   \n",
       "4               Positividade (part. MC Bola)          MC Magal   \n",
       "\n",
       "                                               letra  \n",
       "0   \\nNão adianta tu se declarar\\nRomance, compro...  \n",
       "1   \\nEvoluiu! Ritmo agressivo, 150 fluiu\\nLevand...  \n",
       "2   \\n[MC Davi]\\nVocê me tira do sério\\nEu fazia ...  \n",
       "3   \\nEu te amava, não posso negar\\nTambém sofria...  \n",
       "4   \\nTá torcendo contra o meu progresso\\nTá preo...  "
      ]
     },
     "execution_count": 3,
     "metadata": {},
     "output_type": "execute_result"
    }
   ],
   "source": [
    "funk.head()"
   ]
  },
  {
   "cell_type": "code",
   "execution_count": 4,
   "metadata": {},
   "outputs": [],
   "source": [
    "def TrataLetra(letras):\n",
    "    \n",
    "    textos = []\n",
    "    for letra in letras:\n",
    "        letra = re.sub(r'\\n',' ', letra).lower()\n",
    "        textos.append(letra)\n",
    "    \n",
    "    return ' '.join(textos)"
   ]
  },
  {
   "cell_type": "code",
   "execution_count": 5,
   "metadata": {},
   "outputs": [],
   "source": [
    "# Lê os textos de um exemplo\n",
    "text = TrataLetra(funk[\"letra\"])\n",
    "chars = set([c for c in text])\n",
    "nb_chars = len(chars)"
   ]
  },
  {
   "cell_type": "code",
   "execution_count": 6,
   "metadata": {},
   "outputs": [],
   "source": [
    "# Cria um mapeamento de letras para números e vice-versa\n",
    "char2index = {c: i for i, c in enumerate(chars)}\n",
    "index2char = {i: c for i, c in enumerate(chars)}"
   ]
  },
  {
   "cell_type": "code",
   "execution_count": 7,
   "metadata": {},
   "outputs": [],
   "source": [
    "# Define o tamanho máximo da janela de texto como 15 caracteres\n",
    "SEQLEN, STEP = 15, 1\n",
    "input_chars, label_chars = [], []"
   ]
  },
  {
   "cell_type": "code",
   "execution_count": 8,
   "metadata": {},
   "outputs": [],
   "source": [
    "# Converte os dados em uma série de subsequencias de tamanho 10\n",
    "for i in range(0, len(text) - SEQLEN, STEP):\n",
    "    input_chars.append(text[i: i + SEQLEN])\n",
    "    label_chars.append(text[i + SEQLEN])"
   ]
  },
  {
   "cell_type": "code",
   "execution_count": 9,
   "metadata": {},
   "outputs": [],
   "source": [
    "# Cria o vetor one-hot encoding das sequencias de entradas (X) e o próximo caracter (y)\n",
    "X = np.zeros((len(input_chars), SEQLEN, nb_chars), dtype=np.bool)\n",
    "y = np.zeros((len(input_chars), nb_chars), dtype=np.bool)\n",
    "for i, input_char in enumerate(input_chars):\n",
    "    for j, ch in enumerate(input_char):\n",
    "        X[i, j, char2index[ch]] = 1\n",
    "    y[i, char2index[label_chars[i]]] = 1"
   ]
  },
  {
   "cell_type": "code",
   "execution_count": 10,
   "metadata": {},
   "outputs": [],
   "source": [
    "# Define os metaparametros para o treinamento da rede\n",
    "BATCH_SIZE = 128\n",
    "HIDDEN_SIZE = 128\n",
    "NUM_ITERATIONS = 25\n",
    "NUM_EPOCHS_PER_ITERATION = 1\n",
    "NUM_PREDS_PER_EPOCH = 200"
   ]
  },
  {
   "cell_type": "code",
   "execution_count": 11,
   "metadata": {},
   "outputs": [],
   "source": [
    "# Cria a rede. Existe uma camada recorrente que produz um embedding de tamanho 128 \n",
    "# a partir de uma camada de entrada one-hot-encoded\n",
    "# Essa camada é seguida por uma camada Dense fully-connected, que retorna a probabilidade de cada\n",
    "# caractere no conjunto de caracteres possíveis de ser o próximo\n",
    "model = Sequential()\n",
    "model.add(\n",
    "    LSTM(  \n",
    "        HIDDEN_SIZE,\n",
    "        return_sequences=False,\n",
    "        input_shape=(SEQLEN, nb_chars),\n",
    "        unroll=True\n",
    "    )\n",
    ")\n",
    "model.add(Dense(nb_chars))\n",
    "model.add(Activation(\"softmax\"))\n",
    "model.compile(loss=\"categorical_crossentropy\", optimizer=\"rmsprop\")"
   ]
  },
  {
   "cell_type": "code",
   "execution_count": 12,
   "metadata": {},
   "outputs": [],
   "source": [
    "# Treina o modelo\n",
    "model.compile(optimizer='adam',\n",
    "              loss='binary_crossentropy',\n",
    "              metrics=['accuracy'])"
   ]
  },
  {
   "cell_type": "code",
   "execution_count": null,
   "metadata": {},
   "outputs": [
    {
     "name": "stdout",
     "output_type": "stream",
     "text": [
      "==================================================\n",
      "Iteração #: 0\n",
      "Epoch 1/1\n",
      "1213184/1298749 [===========================>..] - ETA: 6s - loss: 0.0348 - accuracy: 0.9895"
     ]
    }
   ],
   "source": [
    "# Treina o modelo em batches e testa a saída gerada em cada step\n",
    "for iteration in range(2):\n",
    "    print(\"=\" * 50)\n",
    "    print(\"Iteração #: {}\".format(iteration))\n",
    "    model.fit(X, y, batch_size=BATCH_SIZE, epochs=NUM_EPOCHS_PER_ITERATION)"
   ]
  },
  {
   "cell_type": "code",
   "execution_count": null,
   "metadata": {},
   "outputs": [],
   "source": [
    "# Insere o texto com 15 caracteres que será a seed para gerar a música\n",
    "test_chars = 'as novinhas só '"
   ]
  },
  {
   "cell_type": "code",
   "execution_count": null,
   "metadata": {},
   "outputs": [],
   "source": [
    "# Realiza a previsão dos próximos 200 caracteres\n",
    "for i in range(NUM_PREDS_PER_EPOCH):\n",
    "    Xtest = np.zeros((1, SEQLEN, nb_chars))\n",
    "    for j, ch in enumerate(test_chars):\n",
    "        Xtest[0, j, char2index[ch]] = 1\n",
    "    pred = model.predict(Xtest, verbose=0)[0]\n",
    "    ypred = index2char[np.argmax(pred)]\n",
    "    \n",
    "    # Exibe o próximo caracter previsto\n",
    "    print(ypred, end=\"\")\n",
    "    \n",
    "    # move adiante para o próximo caracter com test_chars + ypred\n",
    "    test_chars = test_chars[1:] + ypred"
   ]
  },
  {
   "cell_type": "code",
   "execution_count": null,
   "metadata": {},
   "outputs": [],
   "source": []
  }
 ],
 "metadata": {
  "kernelspec": {
   "display_name": "Python 3",
   "language": "python",
   "name": "python3"
  },
  "language_info": {
   "codemirror_mode": {
    "name": "ipython",
    "version": 3
   },
   "file_extension": ".py",
   "mimetype": "text/x-python",
   "name": "python",
   "nbconvert_exporter": "python",
   "pygments_lexer": "ipython3",
   "version": "3.7.3"
  }
 },
 "nbformat": 4,
 "nbformat_minor": 2
}
